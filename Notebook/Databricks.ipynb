{
 "cells": [
  {
   "cell_type": "markdown",
   "metadata": {},
   "source": [
    "Databricks"
   ]
  },
  {
   "cell_type": "code",
   "execution_count": 1,
   "metadata": {},
   "outputs": [
    {
     "name": "stdout",
     "output_type": "stream",
     "text": [
      "\u001b[31mERROR: Could not open requirements file: [Errno 2] No such file or directory: '../requirements.txt'\u001b[0m\u001b[31m\n",
      "\u001b[0m"
     ]
    }
   ],
   "source": [
    "!pip install -r ../requirements.txt"
   ]
  },
  {
   "cell_type": "markdown",
   "metadata": {},
   "source": []
  },
  {
   "cell_type": "code",
   "execution_count": 2,
   "metadata": {},
   "outputs": [
    {
     "ename": "ModuleNotFoundError",
     "evalue": "No module named 'dotenv'",
     "output_type": "error",
     "traceback": [
      "\u001b[0;31m---------------------------------------------------------------------------\u001b[0m",
      "\u001b[0;31mModuleNotFoundError\u001b[0m                       Traceback (most recent call last)",
      "\u001b[1;32m/Users/shailaguereca/Downloads/Databricks.ipynb Cell 4\u001b[0m line \u001b[0;36m2\n\u001b[1;32m      <a href='vscode-notebook-cell:/Users/shailaguereca/Downloads/Databricks.ipynb#W3sZmlsZQ%3D%3D?line=0'>1</a>\u001b[0m \u001b[39mimport\u001b[39;00m \u001b[39mrequests\u001b[39;00m\n\u001b[0;32m----> <a href='vscode-notebook-cell:/Users/shailaguereca/Downloads/Databricks.ipynb#W3sZmlsZQ%3D%3D?line=1'>2</a>\u001b[0m \u001b[39mfrom\u001b[39;00m \u001b[39mdotenv\u001b[39;00m \u001b[39mimport\u001b[39;00m load_dotenv\n\u001b[1;32m      <a href='vscode-notebook-cell:/Users/shailaguereca/Downloads/Databricks.ipynb#W3sZmlsZQ%3D%3D?line=2'>3</a>\u001b[0m \u001b[39mimport\u001b[39;00m \u001b[39mos\u001b[39;00m\n\u001b[1;32m      <a href='vscode-notebook-cell:/Users/shailaguereca/Downloads/Databricks.ipynb#W3sZmlsZQ%3D%3D?line=3'>4</a>\u001b[0m \u001b[39mimport\u001b[39;00m \u001b[39mjson\u001b[39;00m\n",
      "\u001b[0;31mModuleNotFoundError\u001b[0m: No module named 'dotenv'"
     ]
    }
   ],
   "source": [
    "import requests\n",
    "from dotenv import load_dotenv\n",
    "import os\n",
    "import json\n",
    "import base64\n",
    "\n",
    "# Load environment variables\n",
    "load_dotenv()\n",
    "server_h = os.getenv(\"SERVER_HOSTNAME\")\n",
    "access_token = os.getenv(\"ACCESS_TOKEN\")\n",
    "FILESTORE_PATH = \"dbfs:/FileStore/Sjg80-Databricks_ETL_Pipeline\"\n",
    "headers = {\"Authorization\": \"Bearer %s\" % access_token}\n",
    "url = \"https://\" + server_h + \"/api/2.0\"\n",
    "\n",
    "\n",
    "def perform_query(path, headers, data={}):\n",
    "    session = requests.Session()\n",
    "    resp = session.request(\n",
    "        \"POST\", url + path, data=json.dumps(data), verify=True, headers=headers\n",
    "    )\n",
    "    return resp.json()\n",
    "\n",
    "\n",
    "def mkdirs(path, headers):\n",
    "    _data = {}\n",
    "    _data[\"path\"] = path\n",
    "    return perform_query(\"/dbfs/mkdirs\", headers=headers, data=_data)\n",
    "\n",
    "\n",
    "def create(path, overwrite, headers):\n",
    "    _data = {}\n",
    "    _data[\"path\"] = path\n",
    "    _data[\"overwrite\"] = overwrite\n",
    "    return perform_query(\"/dbfs/create\", headers=headers, data=_data)\n",
    "\n",
    "\n",
    "def add_block(handle, data, headers):\n",
    "    _data = {}\n",
    "    _data[\"handle\"] = handle\n",
    "    _data[\"data\"] = data\n",
    "    return perform_query(\"/dbfs/add-block\", headers=headers, data=_data)\n",
    "\n",
    "\n",
    "def close(handle, headers):\n",
    "    _data = {}\n",
    "    _data[\"handle\"] = handle\n",
    "    return perform_query(\"/dbfs/close\", headers=headers, data=_data)\n",
    "\n",
    "\n",
    "def put_file_from_url(url, dbfs_path, overwrite, headers):\n",
    "    response = requests.get(url)\n",
    "    if response.status_code == 200:\n",
    "        content = response.content\n",
    "        handle = create(dbfs_path, overwrite, headers=headers)[\"handle\"]\n",
    "        print(\"Putting file: \" + dbfs_path)\n",
    "        for i in range(0, len(content), 2**20):\n",
    "            add_block(\n",
    "                handle,\n",
    "                base64.standard_b64encode(content[i : i + 2**20]).decode(),\n",
    "                headers=headers,\n",
    "            )\n",
    "        close(handle, headers=headers)\n",
    "        print(f\"File {dbfs_path} uploaded successfully.\")\n",
    "    else:\n",
    "        print(f\"Error downloading file from {url}. Status code: {response.status_code}\")\n",
    "\n",
    "\n",
    "def extract(\n",
    "    url=\"\"\"https://github.com/nogibjj/Sjg80-Databricks_ETL_Pipeline/blob/e4848c16f4046b56b5f3368bd1b2ca178f71e615/data/ObesityDataSet.csv?raw=true\"\"\",\n",
    "    file_path=FILESTORE_PATH + \"/ObesityDataSet.csv\",\n",
    "    directory=FILESTORE_PATH,\n",
    "    overwrite=True,\n",
    "):\n",
    "    \"\"\"Extract a url to a file path\"\"\"\n",
    "    # Make the directory, no need to check if it exists or not\n",
    "    mkdirs(path=directory, headers=headers)\n",
    "    # Add the csv files, no need to check if it exists or not\n",
    "    put_file_from_url(url, file_path, overwrite, headers=headers)\n",
    "\n",
    "    return file_path\n",
    "\n",
    "\n",
    "extract()"
   ]
  }
 ],
 "metadata": {
  "kernelspec": {
   "display_name": "base",
   "language": "python",
   "name": "python3"
  },
  "language_info": {
   "codemirror_mode": {
    "name": "ipython",
    "version": 3
   },
   "file_extension": ".py",
   "mimetype": "text/x-python",
   "name": "python",
   "nbconvert_exporter": "python",
   "pygments_lexer": "ipython3",
   "version": "3.11.5"
  }
 },
 "nbformat": 4,
 "nbformat_minor": 2
}
